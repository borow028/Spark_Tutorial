{
 "cells": [
  {
   "cell_type": "code",
   "execution_count": 2,
   "metadata": {
    "collapsed": false
   },
   "outputs": [
    {
     "ename": "SyntaxError",
     "evalue": "invalid syntax (<ipython-input-2-5c019b67df78>, line 5)",
     "output_type": "error",
     "traceback": [
      "\u001b[0;36m  File \u001b[0;32m\"<ipython-input-2-5c019b67df78>\"\u001b[0;36m, line \u001b[0;32m5\u001b[0m\n\u001b[0;31m    cd /usr/hdp/2.4.0.0-169/kafka\u001b[0m\n\u001b[0m                    ^\u001b[0m\n\u001b[0;31mSyntaxError\u001b[0m\u001b[0;31m:\u001b[0m invalid syntax\n"
     ]
    }
   ],
   "source": [
    "#Spark Streaming integeration with kafka 0.10.0.0 and above, is still in experimental status, Hence using Kafka 0.9\n",
    "#(http://spark.apache.org/docs/latest/streaming-kafka-integration.html)\n",
    "#Run Zookeeper to maintain Kafka, command to be run from Kafka root dir\n",
    "#change directory to kafka directory\n",
    "\n",
    "#cd /usr/hdp/2.4.0.0-169/kafka\n",
    "#bin/zookeeper-server-start.sh config/zookeeper.properties"
   ]
  },
  {
   "cell_type": "code",
   "execution_count": null,
   "metadata": {
    "collapsed": true
   },
   "outputs": [],
   "source": [
    "#Start Kafka server, aditional servers can be added as per requirement.\n",
    "#bin/kafka-server-start.sh config/server.properties"
   ]
  },
  {
   "cell_type": "code",
   "execution_count": 6,
   "metadata": {
    "collapsed": false
   },
   "outputs": [
    {
     "ename": "KafkaUnavailableError",
     "evalue": "KafkaUnavailableError: All servers failed to process request: [('127.0.0.1', 9092, 2)]",
     "output_type": "error",
     "traceback": [
      "\u001b[0;31m---------------------------------------------------------------------------\u001b[0m",
      "\u001b[0;31mKafkaUnavailableError\u001b[0m                     Traceback (most recent call last)",
      "\u001b[0;32m<ipython-input-6-643e5397c614>\u001b[0m in \u001b[0;36m<module>\u001b[0;34m()\u001b[0m\n\u001b[1;32m      4\u001b[0m \u001b[0;32mimport\u001b[0m \u001b[0mjson\u001b[0m\u001b[0;34m,\u001b[0m\u001b[0mrequests\u001b[0m\u001b[0;34m\u001b[0m\u001b[0m\n\u001b[1;32m      5\u001b[0m \u001b[0;34m\u001b[0m\u001b[0m\n\u001b[0;32m----> 6\u001b[0;31m \u001b[0mkafka\u001b[0m \u001b[0;34m=\u001b[0m \u001b[0mKafkaClient\u001b[0m\u001b[0;34m(\u001b[0m\u001b[0;34m'127.0.0.1:9092'\u001b[0m\u001b[0;34m)\u001b[0m\u001b[0;34m\u001b[0m\u001b[0m\n\u001b[0m\u001b[1;32m      7\u001b[0m \u001b[0;34m\u001b[0m\u001b[0m\n\u001b[1;32m      8\u001b[0m \u001b[0mproducer\u001b[0m \u001b[0;34m=\u001b[0m \u001b[0mSimpleProducer\u001b[0m\u001b[0;34m(\u001b[0m\u001b[0mkafka\u001b[0m\u001b[0;34m)\u001b[0m\u001b[0;34m\u001b[0m\u001b[0m\n",
      "\u001b[0;32m/opt/rh/python27/root/usr/lib/python2.7/site-packages/kafka/__init__.pyc\u001b[0m in \u001b[0;36m__init__\u001b[0;34m(self, *args, **kwargs)\u001b[0m\n\u001b[1;32m     41\u001b[0m                       \u001b[0;34m' kafka.SimpleClient - this import will break in a'\u001b[0m\u001b[0;34m\u001b[0m\u001b[0m\n\u001b[1;32m     42\u001b[0m                       ' future release', DeprecationWarning)\n\u001b[0;32m---> 43\u001b[0;31m         \u001b[0msuper\u001b[0m\u001b[0;34m(\u001b[0m\u001b[0mKafkaClient\u001b[0m\u001b[0;34m,\u001b[0m \u001b[0mself\u001b[0m\u001b[0;34m)\u001b[0m\u001b[0;34m.\u001b[0m\u001b[0m__init__\u001b[0m\u001b[0;34m(\u001b[0m\u001b[0;34m*\u001b[0m\u001b[0margs\u001b[0m\u001b[0;34m,\u001b[0m \u001b[0;34m**\u001b[0m\u001b[0mkwargs\u001b[0m\u001b[0;34m)\u001b[0m\u001b[0;34m\u001b[0m\u001b[0m\n\u001b[0m\u001b[1;32m     44\u001b[0m \u001b[0;34m\u001b[0m\u001b[0m\n\u001b[1;32m     45\u001b[0m \u001b[0;34m\u001b[0m\u001b[0m\n",
      "\u001b[0;32m/opt/rh/python27/root/usr/lib/python2.7/site-packages/kafka/client.pyc\u001b[0m in \u001b[0;36m__init__\u001b[0;34m(self, hosts, client_id, timeout, correlation_id)\u001b[0m\n\u001b[1;32m     54\u001b[0m         \u001b[0mself\u001b[0m\u001b[0;34m.\u001b[0m\u001b[0mtopic_partitions\u001b[0m \u001b[0;34m=\u001b[0m \u001b[0;34m{\u001b[0m\u001b[0;34m}\u001b[0m   \u001b[0;31m# topic -> partition -> leader\u001b[0m\u001b[0;34m\u001b[0m\u001b[0m\n\u001b[1;32m     55\u001b[0m \u001b[0;34m\u001b[0m\u001b[0m\n\u001b[0;32m---> 56\u001b[0;31m         \u001b[0mself\u001b[0m\u001b[0;34m.\u001b[0m\u001b[0mload_metadata_for_topics\u001b[0m\u001b[0;34m(\u001b[0m\u001b[0;34m)\u001b[0m  \u001b[0;31m# bootstrap with all metadata\u001b[0m\u001b[0;34m\u001b[0m\u001b[0m\n\u001b[0m\u001b[1;32m     57\u001b[0m \u001b[0;34m\u001b[0m\u001b[0m\n\u001b[1;32m     58\u001b[0m     \u001b[0;31m##################\u001b[0m\u001b[0;34m\u001b[0m\u001b[0;34m\u001b[0m\u001b[0m\n",
      "\u001b[0;32m/opt/rh/python27/root/usr/lib/python2.7/site-packages/kafka/client.pyc\u001b[0m in \u001b[0;36mload_metadata_for_topics\u001b[0;34m(self, *topics, **kwargs)\u001b[0m\n\u001b[1;32m    524\u001b[0m             \u001b[0mself\u001b[0m\u001b[0;34m.\u001b[0m\u001b[0mreset_all_metadata\u001b[0m\u001b[0;34m(\u001b[0m\u001b[0;34m)\u001b[0m\u001b[0;34m\u001b[0m\u001b[0m\n\u001b[1;32m    525\u001b[0m \u001b[0;34m\u001b[0m\u001b[0m\n\u001b[0;32m--> 526\u001b[0;31m         \u001b[0mresp\u001b[0m \u001b[0;34m=\u001b[0m \u001b[0mself\u001b[0m\u001b[0;34m.\u001b[0m\u001b[0msend_metadata_request\u001b[0m\u001b[0;34m(\u001b[0m\u001b[0mtopics\u001b[0m\u001b[0;34m)\u001b[0m\u001b[0;34m\u001b[0m\u001b[0m\n\u001b[0m\u001b[1;32m    527\u001b[0m \u001b[0;34m\u001b[0m\u001b[0m\n\u001b[1;32m    528\u001b[0m         \u001b[0mlog\u001b[0m\u001b[0;34m.\u001b[0m\u001b[0mdebug\u001b[0m\u001b[0;34m(\u001b[0m\u001b[0;34m'Updating broker metadata: %s'\u001b[0m\u001b[0;34m,\u001b[0m \u001b[0mresp\u001b[0m\u001b[0;34m.\u001b[0m\u001b[0mbrokers\u001b[0m\u001b[0;34m)\u001b[0m\u001b[0;34m\u001b[0m\u001b[0m\n",
      "\u001b[0;32m/opt/rh/python27/root/usr/lib/python2.7/site-packages/kafka/client.pyc\u001b[0m in \u001b[0;36msend_metadata_request\u001b[0;34m(self, payloads, fail_on_error, callback)\u001b[0m\n\u001b[1;32m    589\u001b[0m         \u001b[0mdecoder\u001b[0m \u001b[0;34m=\u001b[0m \u001b[0mKafkaProtocol\u001b[0m\u001b[0;34m.\u001b[0m\u001b[0mdecode_metadata_response\u001b[0m\u001b[0;34m\u001b[0m\u001b[0m\n\u001b[1;32m    590\u001b[0m \u001b[0;34m\u001b[0m\u001b[0m\n\u001b[0;32m--> 591\u001b[0;31m         \u001b[0;32mreturn\u001b[0m \u001b[0mself\u001b[0m\u001b[0;34m.\u001b[0m\u001b[0m_send_broker_unaware_request\u001b[0m\u001b[0;34m(\u001b[0m\u001b[0mpayloads\u001b[0m\u001b[0;34m,\u001b[0m \u001b[0mencoder\u001b[0m\u001b[0;34m,\u001b[0m \u001b[0mdecoder\u001b[0m\u001b[0;34m)\u001b[0m\u001b[0;34m\u001b[0m\u001b[0m\n\u001b[0m\u001b[1;32m    592\u001b[0m \u001b[0;34m\u001b[0m\u001b[0m\n\u001b[1;32m    593\u001b[0m     def send_consumer_metadata_request(self, payloads=[], fail_on_error=True,\n",
      "\u001b[0;32m/opt/rh/python27/root/usr/lib/python2.7/site-packages/kafka/client.pyc\u001b[0m in \u001b[0;36m_send_broker_unaware_request\u001b[0;34m(self, payloads, encoder_fn, decoder_fn)\u001b[0m\n\u001b[1;32m    183\u001b[0m             \u001b[0;32mreturn\u001b[0m \u001b[0mdecoder_fn\u001b[0m\u001b[0;34m(\u001b[0m\u001b[0mfuture\u001b[0m\u001b[0;34m.\u001b[0m\u001b[0mvalue\u001b[0m\u001b[0;34m)\u001b[0m\u001b[0;34m\u001b[0m\u001b[0m\n\u001b[1;32m    184\u001b[0m \u001b[0;34m\u001b[0m\u001b[0m\n\u001b[0;32m--> 185\u001b[0;31m         \u001b[0;32mraise\u001b[0m \u001b[0mKafkaUnavailableError\u001b[0m\u001b[0;34m(\u001b[0m\u001b[0;34m'All servers failed to process request: %s'\u001b[0m \u001b[0;34m%\u001b[0m \u001b[0mhosts\u001b[0m\u001b[0;34m)\u001b[0m\u001b[0;34m\u001b[0m\u001b[0m\n\u001b[0m\u001b[1;32m    186\u001b[0m \u001b[0;34m\u001b[0m\u001b[0m\n\u001b[1;32m    187\u001b[0m     \u001b[0;32mdef\u001b[0m \u001b[0m_payloads_by_broker\u001b[0m\u001b[0;34m(\u001b[0m\u001b[0mself\u001b[0m\u001b[0;34m,\u001b[0m \u001b[0mpayloads\u001b[0m\u001b[0;34m)\u001b[0m\u001b[0;34m:\u001b[0m\u001b[0;34m\u001b[0m\u001b[0m\n",
      "\u001b[0;31mKafkaUnavailableError\u001b[0m: KafkaUnavailableError: All servers failed to process request: [('127.0.0.1', 9092, 2)]"
     ]
    }
   ],
   "source": [
    "#Create Producer.py\n",
    "\n",
    "from kafka import KafkaClient, SimpleProducer\n",
    "import json,requests\n",
    "\n",
    "kafka = KafkaClient('localhost:9092')\n",
    "\n",
    "producer = SimpleProducer(kafka)\n",
    "\n",
    "r = requests.get(\"https://stream.meetup.com/2/rsvps\",stream=True)\n",
    "\n",
    "for line in r.iter_lines():\n",
    "    producer.send_messages('meetup',line)\n",
    "    print type(line)\n",
    "\n",
    "kafka.close()"
   ]
  },
  {
   "cell_type": "code",
   "execution_count": null,
   "metadata": {
    "collapsed": true
   },
   "outputs": [],
   "source": [
    "#Create Consumer.py file\n",
    "from kafka import KafkaConsumer\n",
    "\n",
    "consumer = KafkaConsumer('meetup', group_id = '1', bootstrap_servers = ['localhost:9092'])\n",
    "\n",
    "for message in consumer:\n",
    "    print message.value"
   ]
  },
  {
   "cell_type": "code",
   "execution_count": null,
   "metadata": {
    "collapsed": true
   },
   "outputs": [],
   "source": [
    "#Create spark_meetup.py file\n",
    "from __future__ import print_function\n",
    "import json\n",
    "import sys\n",
    "from pyspark import SparkContext\n",
    "from pyspark.streaming import StreamingContext\n",
    "from pyspark.streaming.kafka import KafkaUtils\n",
    "\n",
    "f_count = 0;\n",
    "\n",
    "def country_count_update(newValue, existingCount):\n",
    "    if existingCount is None:\n",
    "        existingCount = 0\n",
    "\n",
    "    return sum(newValue)+existingCount\n",
    "\n",
    "if __name__ == \"__main__\":\n",
    "\n",
    "    if len(sys.argv) != 3:\n",
    "        print(\"Usage: spark_meetup.py <zk> <topic>\", file=sys.stderr)\n",
    "        exit(-1)\n",
    "\n",
    "    sc = SparkContext(\"local[2]\",appName=\"PythonStreamingMeetup\")\n",
    "    sc.setLogLevel(\"WARN\")\n",
    "    ssc = StreamingContext(sc, 1)\n",
    "    ssc.checkpoint(\"checkpoint\")\n",
    "\n",
    "    zkQuorum, topic = sys.argv[1:]\n",
    "    kvs = KafkaUtils.createStream(ssc, zkQuorum, \"1\", {topic: 1})\n",
    "    rsvps = kvs.map(lambda x: x[1])\n",
    "    rsvps_json = rsvps.map(lambda x: json.loads(x.encode('ascii','ignore')))\n",
    "    rsvps_us = rsvps_json.filter(lambda x: x['group']['group_country']=='us')\n",
    "    rsvps_city_pair = rsvps_us.map(lambda x: (x['group']['group_city'],1))\n",
    "    rsvps_city_statefulCount = rsvps_city_pair.updateStateByKey(country_count_update)\n",
    "    \n",
    "    rsvps_city_statefulCount.pprint()\n",
    "\n",
    "    ssc.start()\n",
    "ssc.awaitTermination()"
   ]
  },
  {
   "cell_type": "code",
   "execution_count": null,
   "metadata": {
    "collapsed": true
   },
   "outputs": [],
   "source": [
    "#Start Producer.py to start reading data from the meetup stream and store it in '''meetup''' kafka topic.\n",
    "#./Producer.py"
   ]
  },
  {
   "cell_type": "code",
   "execution_count": null,
   "metadata": {
    "collapsed": true
   },
   "outputs": [],
   "source": [
    "#Start Consumer.py to consume the stream from the '''meetup''' topic\n",
    "#./Consumer.py"
   ]
  },
  {
   "cell_type": "code",
   "execution_count": null,
   "metadata": {
    "collapsed": true
   },
   "outputs": [],
   "source": [
    "#Submit the spark job spark_meetup.py, to read the data into Spark Streaming from Kafka.\n",
    "#bin/spark-submit --packages org.apache.spark:spark-streaming-kafka-0-8_2.11:2.0.1 spark_meetup.py localhost:2181 meetup"
   ]
  }
 ],
 "metadata": {
  "kernelspec": {
   "display_name": "Python 2",
   "language": "python",
   "name": "python2"
  },
  "language_info": {
   "codemirror_mode": {
    "name": "ipython",
    "version": 2
   },
   "file_extension": ".py",
   "mimetype": "text/x-python",
   "name": "python",
   "nbconvert_exporter": "python",
   "pygments_lexer": "ipython2",
   "version": "2.7.8"
  }
 },
 "nbformat": 4,
 "nbformat_minor": 1
}
