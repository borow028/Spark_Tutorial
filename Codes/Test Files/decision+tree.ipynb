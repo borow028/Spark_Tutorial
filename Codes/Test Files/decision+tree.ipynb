{
 "cells": [
  {
   "cell_type": "code",
   "execution_count": 11,
   "metadata": {
    "collapsed": false
   },
   "outputs": [],
   "source": [
    "from pyspark.mllib.regression import LabeledPoint\n",
    "from pyspark.mllib.tree import DecisionTree, DecisionTreeModel\n",
    "from pyspark.mllib.util import MLUtils\n",
    "\n",
    "# Load and parse the data\n",
    "def parsePoint(line):\n",
    "    values = [float(x) for x in line.split(',')]\n",
    "    return LabeledPoint(values[0], values[1:])\n",
    "\n",
    "data = sc.textFile('file:/usr/hdp/2.4.0.0-169/spark/final_patientyr_data_3.csv')\n",
    "parsedData = data.map(parsePoint)\n",
    "\n",
    "# Split the data into training and test sets (30% held out for testing)\n",
    "(trainingData, testData) = parsedData.randomSplit([0.7, 0.3])"
   ]
  },
  {
   "cell_type": "code",
   "execution_count": 12,
   "metadata": {
    "collapsed": false
   },
   "outputs": [],
   "source": [
    "# Train a DecisionTree model.\n",
    "#  Empty categoricalFeaturesInfo indicates all features are continuous.\n",
    "model = DecisionTree.trainClassifier(trainingData, numClasses=2, categoricalFeaturesInfo={},\n",
    "                                     impurity='gini', maxDepth=5, maxBins=32)"
   ]
  },
  {
   "cell_type": "code",
   "execution_count": 13,
   "metadata": {
    "collapsed": false
   },
   "outputs": [
    {
     "name": "stdout",
     "output_type": "stream",
     "text": [
      "Test Error = 0.0253984063745\n",
      "Learned classification tree model:\n",
      "DecisionTreeModel classifier of depth 5 with 31 nodes\n",
      "  If (feature 129 <= 0.0)\n",
      "   Predict: 0.0\n",
      "  Else (feature 129 > 0.0)\n",
      "   If (feature 34 <= 2.0)\n",
      "    If (feature 34 <= 0.0)\n",
      "     If (feature 27 <= 30220.24)\n",
      "      If (feature 29 <= 978.25)\n",
      "       Predict: 0.0\n",
      "      Else (feature 29 > 978.25)\n",
      "       Predict: 0.0\n",
      "     Else (feature 27 > 30220.24)\n",
      "      Predict: 1.0\n",
      "    Else (feature 34 > 0.0)\n",
      "     If (feature 26 <= 132.6)\n",
      "      If (feature 5 <= 0.0)\n",
      "       Predict: 0.0\n",
      "      Else (feature 5 > 0.0)\n",
      "       Predict: 1.0\n",
      "     Else (feature 26 > 132.6)\n",
      "      If (feature 80 <= 0.0)\n",
      "       Predict: 0.0\n",
      "      Else (feature 80 > 0.0)\n",
      "       Predict: 1.0\n",
      "   Else (feature 34 > 2.0)\n",
      "    If (feature 33 <= 0.0)\n",
      "     If (feature 32 <= 0.0)\n",
      "      If (feature 128 <= 0.0)\n",
      "       Predict: 0.0\n",
      "      Else (feature 128 > 0.0)\n",
      "       Predict: 0.0\n",
      "     Else (feature 32 > 0.0)\n",
      "      If (feature 13 <= 0.0)\n",
      "       Predict: 1.0\n",
      "      Else (feature 13 > 0.0)\n",
      "       Predict: 0.0\n",
      "    Else (feature 33 > 0.0)\n",
      "     If (feature 34 <= 6.0)\n",
      "      If (feature 56 <= 0.0)\n",
      "       Predict: 0.0\n",
      "      Else (feature 56 > 0.0)\n",
      "       Predict: 1.0\n",
      "     Else (feature 34 > 6.0)\n",
      "      If (feature 5 <= 0.0)\n",
      "       Predict: 0.0\n",
      "      Else (feature 5 > 0.0)\n",
      "       Predict: 0.0\n",
      "\n"
     ]
    }
   ],
   "source": [
    "# Evaluate model on test instances and compute test error\n",
    "predictions = model.predict(testData.map(lambda x: x.features))\n",
    "labelsAndPredictions = testData.map(lambda lp: lp.label).zip(predictions)\n",
    "testErr = labelsAndPredictions.filter(lambda (v, p): v != p).count() / float(testData.count())\n",
    "print('Test Error = ' + str(testErr))\n",
    "print('Learned classification tree model:')\n",
    "print(model.toDebugString())"
   ]
  },
  {
   "cell_type": "code",
   "execution_count": 15,
   "metadata": {
    "collapsed": false
   },
   "outputs": [
    {
     "ename": "AttributeError",
     "evalue": "'DecisionTreeModel' object has no attribute 'stages'",
     "output_type": "error",
     "traceback": [
      "\u001b[0;31m---------------------------------------------------------------------------\u001b[0m",
      "\u001b[0;31mAttributeError\u001b[0m                            Traceback (most recent call last)",
      "\u001b[0;32m<ipython-input-15-d4670399d8ba>\u001b[0m in \u001b[0;36m<module>\u001b[0;34m()\u001b[0m\n\u001b[0;32m----> 1\u001b[0;31m \u001b[0mtreeModel\u001b[0m \u001b[0;34m=\u001b[0m \u001b[0mmodel\u001b[0m\u001b[0;34m.\u001b[0m\u001b[0mstages\u001b[0m\u001b[0;34m[\u001b[0m\u001b[0;36m2\u001b[0m\u001b[0;34m]\u001b[0m\u001b[0;34m\u001b[0m\u001b[0m\n\u001b[0m\u001b[1;32m      2\u001b[0m \u001b[0;32mprint\u001b[0m\u001b[0;34m(\u001b[0m\u001b[0mtreeModel\u001b[0m\u001b[0;34m)\u001b[0m\u001b[0;34m\u001b[0m\u001b[0m\n",
      "\u001b[0;31mAttributeError\u001b[0m: 'DecisionTreeModel' object has no attribute 'stages'"
     ]
    }
   ],
   "source": [
    "treeModel = model.stages[2]\n",
    "print(treeModel)"
   ]
  },
  {
   "cell_type": "code",
   "execution_count": 14,
   "metadata": {
    "collapsed": true
   },
   "outputs": [],
   "source": [
    "# Save and load model\n",
    "model.save(sc, \"myModelPath\")\n",
    "sameModel = DecisionTreeModel.load(sc, \"myModelPath\")"
   ]
  }
 ],
 "metadata": {
  "kernelspec": {
   "display_name": "Python 2",
   "language": "python",
   "name": "python2"
  },
  "language_info": {
   "codemirror_mode": {
    "name": "ipython",
    "version": 2
   },
   "file_extension": ".py",
   "mimetype": "text/x-python",
   "name": "python",
   "nbconvert_exporter": "python",
   "pygments_lexer": "ipython2",
   "version": "2.7.8"
  }
 },
 "nbformat": 4,
 "nbformat_minor": 1
}
